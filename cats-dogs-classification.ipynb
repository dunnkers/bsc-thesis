{
 "cells": [
  {
   "cell_type": "code",
   "execution_count": 1,
   "metadata": {},
   "outputs": [],
   "source": [
    "%matplotlib inline\n",
    "\n",
    "import numpy as np\n",
    "import pprint\n",
    "pp = pprint.PrettyPrinter(indent=4)\n"
   ]
  },
  {
   "cell_type": "markdown",
   "metadata": {},
   "source": []
  },
  {
   "cell_type": "code",
   "execution_count": 2,
   "metadata": {},
   "outputs": [
    {
     "name": "stdout",
     "output_type": "stream",
     "text": [
      "number of samples:  1\n",
      "keys:  ['description', 'label', 'filename', 'data']\n",
      "description:  Cats & Dogs dataset\n",
      "image shape:  (415, 498, 3)\n",
      "labels: ['cat']\n"
     ]
    }
   ],
   "source": [
    "# from PIL import Image\n",
    "# img = Image.open(\"./cats-dogs-dataset/test_set/cats/cat.4001.jpg\")\n",
    "# img.load()\n",
    "# data = np.asarray( img, dtype=\"int32\" )\n",
    "\n",
    "from matplotlib.image import imread\n",
    "img = imread(\"./cats-dogs-dataset/test_set/cats/cat.4001.jpg\")\n",
    "\n",
    "data = {\n",
    "    'description': 'Cats & Dogs dataset',\n",
    "    'label': [ 'cat' ],\n",
    "    'filename': [ '' ],\n",
    "    'data': [ img ]\n",
    "}\n",
    "\n",
    "print('number of samples: ', len(data['data']))\n",
    "print('keys: ', list(data.keys()))\n",
    "print('description: ', data['description'])\n",
    "print('image shape: ', data['data'][0].shape)\n",
    "print('labels:', np.unique(data['label']))"
   ]
  },
  {
   "cell_type": "code",
   "execution_count": null,
   "metadata": {},
   "outputs": [],
   "source": []
  },
  {
   "cell_type": "markdown",
   "metadata": {},
   "source": [
    "> Sidenote; data is already split, but maybe we should let sklearn split it using train_test_split, to prevent overfit/missed training data."
   ]
  },
  {
   "cell_type": "code",
   "execution_count": null,
   "metadata": {
    "scrolled": true
   },
   "outputs": [],
   "source": [
    "import matplotlib.pyplot as plt\n",
    "\n"
   ]
  },
  {
   "cell_type": "code",
   "execution_count": null,
   "metadata": {},
   "outputs": [],
   "source": []
  },
  {
   "cell_type": "markdown",
   "metadata": {},
   "source": [
    "Inspired by\n",
    "https://kapernikov.com/tutorial-image-classification-with-scikit-learn/\n",
    "https://medium.com/nybles/create-your-first-image-recognition-classifier-using-cnn-keras-and-tensorflow-backend-6eaab98d14dd\n",
    "http://www.marekrei.com/blog/transforming-images-to-feature-vectors/"
   ]
  }
 ],
 "metadata": {
  "kernelspec": {
   "display_name": "Python 3",
   "language": "python",
   "name": "python3"
  },
  "language_info": {
   "codemirror_mode": {
    "name": "ipython",
    "version": 3
   },
   "file_extension": ".py",
   "mimetype": "text/x-python",
   "name": "python",
   "nbconvert_exporter": "python",
   "pygments_lexer": "ipython3",
   "version": "3.7.3"
  }
 },
 "nbformat": 4,
 "nbformat_minor": 2
}
